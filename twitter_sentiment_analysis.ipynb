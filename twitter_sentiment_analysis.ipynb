{
 "cells": [
  {
   "cell_type": "code",
   "execution_count": 1,
   "id": "1d22b6bf",
   "metadata": {},
   "outputs": [],
   "source": [
    "#importing libraries and modules\n",
    "import tensorflow as tf\n",
    "import pandas as pd\n",
    "import numpy as np\n",
    "import matplotlib.pyplot as plt\n",
    "import re\n",
    "import os "
   ]
  },
  {
   "cell_type": "code",
   "execution_count": 3,
   "id": "898bb2bf",
   "metadata": {},
   "outputs": [],
   "source": [
    "#reading the data in a dataframe df\n",
    "df = pd.read_excel('../trendyol_tweets_sentiment.xlsx')"
   ]
  },
  {
   "cell_type": "code",
   "execution_count": 4,
   "id": "aee79461",
   "metadata": {},
   "outputs": [
    {
     "data": {
      "text/html": [
       "<div>\n",
       "<style scoped>\n",
       "    .dataframe tbody tr th:only-of-type {\n",
       "        vertical-align: middle;\n",
       "    }\n",
       "\n",
       "    .dataframe tbody tr th {\n",
       "        vertical-align: top;\n",
       "    }\n",
       "\n",
       "    .dataframe thead th {\n",
       "        text-align: right;\n",
       "    }\n",
       "</style>\n",
       "<table border=\"1\" class=\"dataframe\">\n",
       "  <thead>\n",
       "    <tr style=\"text-align: right;\">\n",
       "      <th></th>\n",
       "      <th>Username</th>\n",
       "      <th>User</th>\n",
       "      <th>Timestamp</th>\n",
       "      <th>Response</th>\n",
       "      <th>Comments</th>\n",
       "      <th>Replys</th>\n",
       "      <th>Retweets</th>\n",
       "      <th>Likes</th>\n",
       "      <th>Sentiment</th>\n",
       "    </tr>\n",
       "  </thead>\n",
       "  <tbody>\n",
       "    <tr>\n",
       "      <th>0</th>\n",
       "      <td>Candan Doğan</td>\n",
       "      <td>@candandogan007</td>\n",
       "      <td>2022-06-11 10:35:27</td>\n",
       "      <td>NaN</td>\n",
       "      <td>Adresten trendyol iade müthiş bi hizmet müthiş</td>\n",
       "      <td>NaN</td>\n",
       "      <td>NaN</td>\n",
       "      <td>NaN</td>\n",
       "      <td>pozitif</td>\n",
       "    </tr>\n",
       "    <tr>\n",
       "      <th>1</th>\n",
       "      <td>abdurrahman er</td>\n",
       "      <td>@abdurrahmanbmw_</td>\n",
       "      <td>2022-06-11 10:35:17</td>\n",
       "      <td>@Melikeguul_\\n adlı kişiye yanıt olarak</td>\n",
       "      <td>3) Perşembe 19:46 da okula dağıtıma gidilmiş. ...</td>\n",
       "      <td>NaN</td>\n",
       "      <td>NaN</td>\n",
       "      <td>NaN</td>\n",
       "      <td>negatif</td>\n",
       "    </tr>\n",
       "    <tr>\n",
       "      <th>2</th>\n",
       "      <td>gk</td>\n",
       "      <td>@sanmiiyorum</td>\n",
       "      <td>2022-06-11 10:26:32</td>\n",
       "      <td>NaN</td>\n",
       "      <td>trendyol beni engelleme vaktin geldi de geciyo</td>\n",
       "      <td>NaN</td>\n",
       "      <td>NaN</td>\n",
       "      <td>NaN</td>\n",
       "      <td>pozitif</td>\n",
       "    </tr>\n",
       "    <tr>\n",
       "      <th>3</th>\n",
       "      <td>Çok tatlısın bee hiloş</td>\n",
       "      <td>@_Mrs_gold_grace</td>\n",
       "      <td>2022-06-11 10:20:45</td>\n",
       "      <td>NaN</td>\n",
       "      <td>Güzelin derdi ve Trendyol favorileri çok olur ...</td>\n",
       "      <td>NaN</td>\n",
       "      <td>1.0</td>\n",
       "      <td>4.0</td>\n",
       "      <td>pozitif</td>\n",
       "    </tr>\n",
       "    <tr>\n",
       "      <th>4</th>\n",
       "      <td>yağmur</td>\n",
       "      <td>@zephymr</td>\n",
       "      <td>2022-06-11 09:55:30</td>\n",
       "      <td>NaN</td>\n",
       "      <td>Allah kimsenin başına trendyol bağımlılığı ver...</td>\n",
       "      <td>NaN</td>\n",
       "      <td>NaN</td>\n",
       "      <td>6.0</td>\n",
       "      <td>pozitif</td>\n",
       "    </tr>\n",
       "    <tr>\n",
       "      <th>5</th>\n",
       "      <td>qaqpap</td>\n",
       "      <td>@qaqpap</td>\n",
       "      <td>2022-06-11 09:50:29</td>\n",
       "      <td>NaN</td>\n",
       "      <td>#trendyol  düşük kaliteli ürün satışlarıyla, k...</td>\n",
       "      <td>NaN</td>\n",
       "      <td>NaN</td>\n",
       "      <td>1.0</td>\n",
       "      <td>negatif</td>\n",
       "    </tr>\n",
       "    <tr>\n",
       "      <th>6</th>\n",
       "      <td>NaN</td>\n",
       "      <td>@killertiffanyy</td>\n",
       "      <td>2022-06-11 09:49:30</td>\n",
       "      <td>NaN</td>\n",
       "      <td>Trendyol sayesinde kredi kartımın borcu hiç bi...</td>\n",
       "      <td>NaN</td>\n",
       "      <td>NaN</td>\n",
       "      <td>NaN</td>\n",
       "      <td>pozitif</td>\n",
       "    </tr>\n",
       "    <tr>\n",
       "      <th>7</th>\n",
       "      <td>Serhat</td>\n",
       "      <td>@Serhazman</td>\n",
       "      <td>2022-06-11 09:45:50</td>\n",
       "      <td>NaN</td>\n",
       "      <td>Trendyol yemek reklamlarının da sizce boku çık...</td>\n",
       "      <td>NaN</td>\n",
       "      <td>NaN</td>\n",
       "      <td>NaN</td>\n",
       "      <td>negatif</td>\n",
       "    </tr>\n",
       "    <tr>\n",
       "      <th>8</th>\n",
       "      <td>Halise Öte</td>\n",
       "      <td>@anaouw</td>\n",
       "      <td>2022-06-11 09:38:51</td>\n",
       "      <td>NaN</td>\n",
       "      <td>Trendyol bana bildirim gönderip durma hayatima...</td>\n",
       "      <td>1.0</td>\n",
       "      <td>NaN</td>\n",
       "      <td>13.0</td>\n",
       "      <td>pozitif</td>\n",
       "    </tr>\n",
       "    <tr>\n",
       "      <th>9</th>\n",
       "      <td>smrgur</td>\n",
       "      <td>@smr_gur</td>\n",
       "      <td>2022-06-11 09:34:51</td>\n",
       "      <td>NaN</td>\n",
       "      <td>#trendyol \\n@Trendyol\\n @TrendyolDestek\\n  en ...</td>\n",
       "      <td>NaN</td>\n",
       "      <td>NaN</td>\n",
       "      <td>NaN</td>\n",
       "      <td>negatif</td>\n",
       "    </tr>\n",
       "  </tbody>\n",
       "</table>\n",
       "</div>"
      ],
      "text/plain": [
       "                 Username              User           Timestamp  \\\n",
       "0            Candan Doğan   @candandogan007 2022-06-11 10:35:27   \n",
       "1          abdurrahman er  @abdurrahmanbmw_ 2022-06-11 10:35:17   \n",
       "2                      gk      @sanmiiyorum 2022-06-11 10:26:32   \n",
       "3  Çok tatlısın bee hiloş  @_Mrs_gold_grace 2022-06-11 10:20:45   \n",
       "4                  yağmur          @zephymr 2022-06-11 09:55:30   \n",
       "5                  qaqpap           @qaqpap 2022-06-11 09:50:29   \n",
       "6                     NaN   @killertiffanyy 2022-06-11 09:49:30   \n",
       "7                  Serhat        @Serhazman 2022-06-11 09:45:50   \n",
       "8              Halise Öte           @anaouw 2022-06-11 09:38:51   \n",
       "9                  smrgur          @smr_gur 2022-06-11 09:34:51   \n",
       "\n",
       "                                  Response  \\\n",
       "0                                      NaN   \n",
       "1  @Melikeguul_\\n adlı kişiye yanıt olarak   \n",
       "2                                      NaN   \n",
       "3                                      NaN   \n",
       "4                                      NaN   \n",
       "5                                      NaN   \n",
       "6                                      NaN   \n",
       "7                                      NaN   \n",
       "8                                      NaN   \n",
       "9                                      NaN   \n",
       "\n",
       "                                            Comments  Replys  Retweets  Likes  \\\n",
       "0     Adresten trendyol iade müthiş bi hizmet müthiş     NaN       NaN    NaN   \n",
       "1  3) Perşembe 19:46 da okula dağıtıma gidilmiş. ...     NaN       NaN    NaN   \n",
       "2     trendyol beni engelleme vaktin geldi de geciyo     NaN       NaN    NaN   \n",
       "3  Güzelin derdi ve Trendyol favorileri çok olur ...     NaN       1.0    4.0   \n",
       "4  Allah kimsenin başına trendyol bağımlılığı ver...     NaN       NaN    6.0   \n",
       "5  #trendyol  düşük kaliteli ürün satışlarıyla, k...     NaN       NaN    1.0   \n",
       "6  Trendyol sayesinde kredi kartımın borcu hiç bi...     NaN       NaN    NaN   \n",
       "7  Trendyol yemek reklamlarının da sizce boku çık...     NaN       NaN    NaN   \n",
       "8  Trendyol bana bildirim gönderip durma hayatima...     1.0       NaN   13.0   \n",
       "9  #trendyol \\n@Trendyol\\n @TrendyolDestek\\n  en ...     NaN       NaN    NaN   \n",
       "\n",
       "  Sentiment  \n",
       "0   pozitif  \n",
       "1   negatif  \n",
       "2   pozitif  \n",
       "3   pozitif  \n",
       "4   pozitif  \n",
       "5   negatif  \n",
       "6   pozitif  \n",
       "7   negatif  \n",
       "8   pozitif  \n",
       "9   negatif  "
      ]
     },
     "execution_count": 4,
     "metadata": {},
     "output_type": "execute_result"
    }
   ],
   "source": [
    "#printing the dataframe\n",
    "df.head(10)"
   ]
  },
  {
   "cell_type": "code",
   "execution_count": 6,
   "id": "d02fb961",
   "metadata": {},
   "outputs": [
    {
     "data": {
      "text/plain": [
       "#1320189859 nolu siparişim iptal edildiği halde teslime çekilip ücret iadesi yapılamamaktadır denmekte ,sipariş verdikten sonra iade hakkına sahip değil miyiz?bu nasıl bi dolandırıcılık                                                                             2\n",
       "Trendyol’da indirim rezaleti! 750 TL’ye satmayıp iptal ettikleri ürüne 1 günde zam yaptılar\\n\\n#Persembe\\n#9Haziran                                                                                                                                                   2\n",
       "Adresten trendyol iade müthiş bi hizmet müthiş                                                                                                                                                                                                                        1\n",
       "Trendyol da gezme hastalığına tutuldum,  beğendigim herseyi favorilerime ekliyorum,param olunca alirim diye. Canim sıkıldıkça da ne favorilemisim diye girip bakıyorum, sonra da ayy ne güzel insallah alırım diye uygulamadan çıkıyorum. İnsallah alırım insallah    1\n",
       "Trendyol gerçekten pişmanlıkmış. Sadece 2 kez alışveriş yaptım birinde toplu birinde tek ürün ancak inanılmaz bir şekilde hem alışveriş bazlı hem ürün bazlı asla işler yolunda gitmedi. Hepsiburada'nın değerini her alışverişimde daha iyi anlıyorum.               1\n",
       "                                                                                                                                                                                                                                                                     ..\n",
       "Tüketici hakem heyetine başvurdum.Maalesef sizi güvenilir bir firma zannettiğim için poşeti açarken kamera kaydına almak aklıma gelmemişti.Bundan sonra aklımda bulunsun \\n@Trendyol\\n @TrendyolDestek                                                                1\n",
       "mezuniyet için aldığım elbisem yetişmez diye kaygilanirken hızlı kargo ile bana yetiştiren trendyol.. teşekkürü borç bilirim asko \\n@Trendyol\\n                                                                                                                       1\n",
       "Trendyol, Getir gibi şirketler bir kaç sene içerisinde bu listenin tepesine yerleşir                                                                                                                                                                                  1\n",
       "Evet trendyol 25 TL indirimle hayat bana guzel                                                                                                                                                                                                                        1\n",
       "1 saattir trendyol'da gördüğüm manken'in instasını bulmaya çalışıyorum. Mankenleri çok iyi                                                                                                                                                                            1\n",
       "Name: Comments, Length: 1174, dtype: int64"
      ]
     },
     "execution_count": 6,
     "metadata": {},
     "output_type": "execute_result"
    }
   ],
   "source": [
    "#veryfying the comments data\n",
    "df['Comments'].value_counts()"
   ]
  },
  {
   "cell_type": "code",
   "execution_count": 7,
   "id": "1cfa7079",
   "metadata": {},
   "outputs": [
    {
     "data": {
      "text/plain": [
       "negatif    675\n",
       "pozitif    501\n",
       "Name: Sentiment, dtype: int64"
      ]
     },
     "execution_count": 7,
     "metadata": {},
     "output_type": "execute_result"
    }
   ],
   "source": [
    "#veryfying the sentiments values\n",
    "df['Sentiment'].value_counts()"
   ]
  },
  {
   "cell_type": "code",
   "execution_count": 8,
   "id": "580fb595",
   "metadata": {},
   "outputs": [],
   "source": [
    "#drop the unnecessary columns\n",
    "df = df.drop(['Username','User','Timestamp','Response','Replys','Retweets','Likes'], axis=1)"
   ]
  },
  {
   "cell_type": "code",
   "execution_count": 9,
   "id": "a4d4a830",
   "metadata": {},
   "outputs": [
    {
     "data": {
      "text/html": [
       "<div>\n",
       "<style scoped>\n",
       "    .dataframe tbody tr th:only-of-type {\n",
       "        vertical-align: middle;\n",
       "    }\n",
       "\n",
       "    .dataframe tbody tr th {\n",
       "        vertical-align: top;\n",
       "    }\n",
       "\n",
       "    .dataframe thead th {\n",
       "        text-align: right;\n",
       "    }\n",
       "</style>\n",
       "<table border=\"1\" class=\"dataframe\">\n",
       "  <thead>\n",
       "    <tr style=\"text-align: right;\">\n",
       "      <th></th>\n",
       "      <th>Comments</th>\n",
       "      <th>Sentiment</th>\n",
       "    </tr>\n",
       "  </thead>\n",
       "  <tbody>\n",
       "    <tr>\n",
       "      <th>0</th>\n",
       "      <td>Adresten trendyol iade müthiş bi hizmet müthiş</td>\n",
       "      <td>pozitif</td>\n",
       "    </tr>\n",
       "    <tr>\n",
       "      <th>1</th>\n",
       "      <td>3) Perşembe 19:46 da okula dağıtıma gidilmiş. ...</td>\n",
       "      <td>negatif</td>\n",
       "    </tr>\n",
       "    <tr>\n",
       "      <th>2</th>\n",
       "      <td>trendyol beni engelleme vaktin geldi de geciyo</td>\n",
       "      <td>pozitif</td>\n",
       "    </tr>\n",
       "    <tr>\n",
       "      <th>3</th>\n",
       "      <td>Güzelin derdi ve Trendyol favorileri çok olur ...</td>\n",
       "      <td>pozitif</td>\n",
       "    </tr>\n",
       "    <tr>\n",
       "      <th>4</th>\n",
       "      <td>Allah kimsenin başına trendyol bağımlılığı ver...</td>\n",
       "      <td>pozitif</td>\n",
       "    </tr>\n",
       "    <tr>\n",
       "      <th>5</th>\n",
       "      <td>#trendyol  düşük kaliteli ürün satışlarıyla, k...</td>\n",
       "      <td>negatif</td>\n",
       "    </tr>\n",
       "    <tr>\n",
       "      <th>6</th>\n",
       "      <td>Trendyol sayesinde kredi kartımın borcu hiç bi...</td>\n",
       "      <td>pozitif</td>\n",
       "    </tr>\n",
       "    <tr>\n",
       "      <th>7</th>\n",
       "      <td>Trendyol yemek reklamlarının da sizce boku çık...</td>\n",
       "      <td>negatif</td>\n",
       "    </tr>\n",
       "    <tr>\n",
       "      <th>8</th>\n",
       "      <td>Trendyol bana bildirim gönderip durma hayatima...</td>\n",
       "      <td>pozitif</td>\n",
       "    </tr>\n",
       "    <tr>\n",
       "      <th>9</th>\n",
       "      <td>#trendyol \\n@Trendyol\\n @TrendyolDestek\\n  en ...</td>\n",
       "      <td>negatif</td>\n",
       "    </tr>\n",
       "  </tbody>\n",
       "</table>\n",
       "</div>"
      ],
      "text/plain": [
       "                                            Comments Sentiment\n",
       "0     Adresten trendyol iade müthiş bi hizmet müthiş   pozitif\n",
       "1  3) Perşembe 19:46 da okula dağıtıma gidilmiş. ...   negatif\n",
       "2     trendyol beni engelleme vaktin geldi de geciyo   pozitif\n",
       "3  Güzelin derdi ve Trendyol favorileri çok olur ...   pozitif\n",
       "4  Allah kimsenin başına trendyol bağımlılığı ver...   pozitif\n",
       "5  #trendyol  düşük kaliteli ürün satışlarıyla, k...   negatif\n",
       "6  Trendyol sayesinde kredi kartımın borcu hiç bi...   pozitif\n",
       "7  Trendyol yemek reklamlarının da sizce boku çık...   negatif\n",
       "8  Trendyol bana bildirim gönderip durma hayatima...   pozitif\n",
       "9  #trendyol \\n@Trendyol\\n @TrendyolDestek\\n  en ...   negatif"
      ]
     },
     "execution_count": 9,
     "metadata": {},
     "output_type": "execute_result"
    }
   ],
   "source": [
    "#printing the dataframe\n",
    "df.head(10)"
   ]
  },
  {
   "cell_type": "code",
   "execution_count": 10,
   "id": "3f81add3",
   "metadata": {},
   "outputs": [
    {
     "data": {
      "text/html": [
       "<div>\n",
       "<style scoped>\n",
       "    .dataframe tbody tr th:only-of-type {\n",
       "        vertical-align: middle;\n",
       "    }\n",
       "\n",
       "    .dataframe tbody tr th {\n",
       "        vertical-align: top;\n",
       "    }\n",
       "\n",
       "    .dataframe thead th {\n",
       "        text-align: right;\n",
       "    }\n",
       "</style>\n",
       "<table border=\"1\" class=\"dataframe\">\n",
       "  <thead>\n",
       "    <tr style=\"text-align: right;\">\n",
       "      <th></th>\n",
       "      <th>Comments</th>\n",
       "      <th>Sentiment</th>\n",
       "    </tr>\n",
       "  </thead>\n",
       "  <tbody>\n",
       "    <tr>\n",
       "      <th>0</th>\n",
       "      <td>adresten trendyol iade müthiş bi hizmet müthiş</td>\n",
       "      <td>pozitif</td>\n",
       "    </tr>\n",
       "    <tr>\n",
       "      <th>1</th>\n",
       "      <td>3) perşembe 19:46 da okula dağıtıma gidilmiş. ...</td>\n",
       "      <td>negatif</td>\n",
       "    </tr>\n",
       "    <tr>\n",
       "      <th>2</th>\n",
       "      <td>trendyol beni engelleme vaktin geldi de geciyo</td>\n",
       "      <td>pozitif</td>\n",
       "    </tr>\n",
       "    <tr>\n",
       "      <th>3</th>\n",
       "      <td>güzelin derdi ve trendyol favorileri çok olur ...</td>\n",
       "      <td>pozitif</td>\n",
       "    </tr>\n",
       "    <tr>\n",
       "      <th>4</th>\n",
       "      <td>allah kimsenin başına trendyol bağımlılığı ver...</td>\n",
       "      <td>pozitif</td>\n",
       "    </tr>\n",
       "    <tr>\n",
       "      <th>...</th>\n",
       "      <td>...</td>\n",
       "      <td>...</td>\n",
       "    </tr>\n",
       "    <tr>\n",
       "      <th>1171</th>\n",
       "      <td>trendyol yemek bence bayağı başarılı bu konuda...</td>\n",
       "      <td>pozitif</td>\n",
       "    </tr>\n",
       "    <tr>\n",
       "      <th>1172</th>\n",
       "      <td>yemek sepetini zaten sevmiyordum cok ilgisizle...</td>\n",
       "      <td>pozitif</td>\n",
       "    </tr>\n",
       "    <tr>\n",
       "      <th>1173</th>\n",
       "      <td>yemek siparişimi getirmedi. siparişi i̇ptal e...</td>\n",
       "      <td>negatif</td>\n",
       "    </tr>\n",
       "    <tr>\n",
       "      <th>1174</th>\n",
       "      <td>kanka 5li boxer trendyol da uygun vardır,bulursun</td>\n",
       "      <td>pozitif</td>\n",
       "    </tr>\n",
       "    <tr>\n",
       "      <th>1175</th>\n",
       "      <td>1 saattir trendyol'da gördüğüm manken'in insta...</td>\n",
       "      <td>pozitif</td>\n",
       "    </tr>\n",
       "  </tbody>\n",
       "</table>\n",
       "<p>1176 rows × 2 columns</p>\n",
       "</div>"
      ],
      "text/plain": [
       "                                               Comments Sentiment\n",
       "0        adresten trendyol iade müthiş bi hizmet müthiş   pozitif\n",
       "1     3) perşembe 19:46 da okula dağıtıma gidilmiş. ...   negatif\n",
       "2        trendyol beni engelleme vaktin geldi de geciyo   pozitif\n",
       "3     güzelin derdi ve trendyol favorileri çok olur ...   pozitif\n",
       "4     allah kimsenin başına trendyol bağımlılığı ver...   pozitif\n",
       "...                                                 ...       ...\n",
       "1171  trendyol yemek bence bayağı başarılı bu konuda...   pozitif\n",
       "1172  yemek sepetini zaten sevmiyordum cok ilgisizle...   pozitif\n",
       "1173   yemek siparişimi getirmedi. siparişi i̇ptal e...   negatif\n",
       "1174  kanka 5li boxer trendyol da uygun vardır,bulursun   pozitif\n",
       "1175  1 saattir trendyol'da gördüğüm manken'in insta...   pozitif\n",
       "\n",
       "[1176 rows x 2 columns]"
      ]
     },
     "execution_count": 10,
     "metadata": {},
     "output_type": "execute_result"
    }
   ],
   "source": [
    "#define a function to remove the @mentions and other useless text from the tweets\n",
    "def cleaning_txtdata(text):\n",
    "    text = re.sub(r'@[A-Za-z0-9]+', '', text)            #removing @mentions\n",
    "    text = re.sub(r'@[A-Za-zA-Z0-9]+', '', text)         #removing @mentions\n",
    "    text = re.sub(r'@[A-Za-z]+', '', text)               #removing @mentions\n",
    "    text = re.sub(r'@[-)]+', '', text)                   #removing @mentions\n",
    "    text = re.sub(r'#', '', text)                        #removing '#' sign\n",
    "    text = re.sub(r'RT[\\s]+', '', text)                  #removing RT\n",
    "    text = re.sub(r'https?:\\/\\/\\S+', '', text)           #removing the hyper link\n",
    "    text = re.sub(r'&[a-z;]+', '', text)                 #removing '&gt;'\n",
    "    text = re.sub(r'\\n+', '', text)                      #removing '\\n'\n",
    "    text = re.sub(r'\\s\\s+', '', text)                    #removing space\n",
    "    text = re.sub(r'^,+$', '', text)                     #removing number\n",
    "    return text\n",
    "\n",
    "df['Comments'] = df['Comments'].apply(cleaning_txtdata)  #saving clear data\n",
    "df['Comments']=df['Comments'].str.lower()                #lowercase\n",
    "df"
   ]
  },
  {
   "cell_type": "code",
   "execution_count": 11,
   "id": "9853654a",
   "metadata": {},
   "outputs": [
    {
     "data": {
      "text/html": [
       "<div>\n",
       "<style scoped>\n",
       "    .dataframe tbody tr th:only-of-type {\n",
       "        vertical-align: middle;\n",
       "    }\n",
       "\n",
       "    .dataframe tbody tr th {\n",
       "        vertical-align: top;\n",
       "    }\n",
       "\n",
       "    .dataframe thead th {\n",
       "        text-align: right;\n",
       "    }\n",
       "</style>\n",
       "<table border=\"1\" class=\"dataframe\">\n",
       "  <thead>\n",
       "    <tr style=\"text-align: right;\">\n",
       "      <th></th>\n",
       "      <th>Comments</th>\n",
       "      <th>Sentiment</th>\n",
       "    </tr>\n",
       "  </thead>\n",
       "  <tbody>\n",
       "    <tr>\n",
       "      <th>0</th>\n",
       "      <td>adresten trendyol iade müthiş bi hizmet müthiş</td>\n",
       "      <td>1</td>\n",
       "    </tr>\n",
       "    <tr>\n",
       "      <th>1</th>\n",
       "      <td>3) perşembe 19:46 da okula dağıtıma gidilmiş. ...</td>\n",
       "      <td>0</td>\n",
       "    </tr>\n",
       "    <tr>\n",
       "      <th>2</th>\n",
       "      <td>trendyol beni engelleme vaktin geldi de geciyo</td>\n",
       "      <td>1</td>\n",
       "    </tr>\n",
       "    <tr>\n",
       "      <th>3</th>\n",
       "      <td>güzelin derdi ve trendyol favorileri çok olur ...</td>\n",
       "      <td>1</td>\n",
       "    </tr>\n",
       "    <tr>\n",
       "      <th>4</th>\n",
       "      <td>allah kimsenin başına trendyol bağımlılığı ver...</td>\n",
       "      <td>1</td>\n",
       "    </tr>\n",
       "    <tr>\n",
       "      <th>5</th>\n",
       "      <td>trendyoldüşük kaliteli ürün satışlarıyla, karg...</td>\n",
       "      <td>0</td>\n",
       "    </tr>\n",
       "    <tr>\n",
       "      <th>6</th>\n",
       "      <td>trendyol sayesinde kredi kartımın borcu hiç bi...</td>\n",
       "      <td>1</td>\n",
       "    </tr>\n",
       "    <tr>\n",
       "      <th>7</th>\n",
       "      <td>trendyol yemek reklamlarının da sizce boku çık...</td>\n",
       "      <td>0</td>\n",
       "    </tr>\n",
       "    <tr>\n",
       "      <th>8</th>\n",
       "      <td>trendyol bana bildirim gönderip durma hayatima...</td>\n",
       "      <td>1</td>\n",
       "    </tr>\n",
       "    <tr>\n",
       "      <th>9</th>\n",
       "      <td>trendyolen ufak bir hata yok.trendyol tüketici...</td>\n",
       "      <td>0</td>\n",
       "    </tr>\n",
       "  </tbody>\n",
       "</table>\n",
       "</div>"
      ],
      "text/plain": [
       "                                            Comments  Sentiment\n",
       "0     adresten trendyol iade müthiş bi hizmet müthiş          1\n",
       "1  3) perşembe 19:46 da okula dağıtıma gidilmiş. ...          0\n",
       "2     trendyol beni engelleme vaktin geldi de geciyo          1\n",
       "3  güzelin derdi ve trendyol favorileri çok olur ...          1\n",
       "4  allah kimsenin başına trendyol bağımlılığı ver...          1\n",
       "5  trendyoldüşük kaliteli ürün satışlarıyla, karg...          0\n",
       "6  trendyol sayesinde kredi kartımın borcu hiç bi...          1\n",
       "7  trendyol yemek reklamlarının da sizce boku çık...          0\n",
       "8  trendyol bana bildirim gönderip durma hayatima...          1\n",
       "9  trendyolen ufak bir hata yok.trendyol tüketici...          0"
      ]
     },
     "execution_count": 11,
     "metadata": {},
     "output_type": "execute_result"
    }
   ],
   "source": [
    "#converting string data to number data\n",
    "def encode_sentiments(sentiment):\n",
    "    if sentiment == 'pozitif':\n",
    "        return 1\n",
    "    else:\n",
    "        return 0\n",
    "    \n",
    "df['Sentiment'] = df['Sentiment'].apply( encode_sentiments)\n",
    "df.head(10)"
   ]
  },
  {
   "cell_type": "code",
   "execution_count": 124,
   "id": "aec496c0",
   "metadata": {},
   "outputs": [],
   "source": [
    "#splitting the data into training and testing data\n",
    "from sklearn.model_selection import train_test_split\n",
    "\n",
    "x_train, x_test, y_train, y_test = train_test_split(df['Comments'].values, df['Sentiment'].values, test_size = 0.20)"
   ]
  },
  {
   "cell_type": "code",
   "execution_count": 125,
   "id": "9555c643",
   "metadata": {},
   "outputs": [],
   "source": [
    "#Digitizes data and assigns a numeric value to each categorical data\n",
    "from sklearn.preprocessing import LabelEncoder\n",
    "\n",
    "x = df.drop(['Sentiment'], axis=1)\n",
    "y = df.Sentiment\n",
    "lb = LabelEncoder()\n",
    "y = lb.fit_transform(y)"
   ]
  },
  {
   "cell_type": "code",
   "execution_count": 126,
   "id": "a156b754",
   "metadata": {},
   "outputs": [
    {
     "name": "stdout",
     "output_type": "stream",
     "text": [
      "Sentiment Text:  trendyol, bir hafta sonra kurban bayramı için indirim yapmaya başlar\n",
      "Sentiment:  1\n"
     ]
    }
   ],
   "source": [
    "#checking the data split\n",
    "print('Sentiment Text: ', x_train[0])\n",
    "print('Sentiment: ', y_train[0])"
   ]
  },
  {
   "cell_type": "code",
   "execution_count": 127,
   "id": "7c9f0a74",
   "metadata": {},
   "outputs": [],
   "source": [
    "#converting the strings into integers using Tekonizer\n",
    "from tensorflow.keras.preprocessing.text import Tokenizer\n",
    "from tensorflow.keras.preprocessing.sequence import pad_sequences\n",
    "\n",
    "#instantiating the tekonizer\n",
    "max_vocab = 20000000\n",
    "tokenizer = Tokenizer(num_words=max_vocab)\n",
    "tokenizer.fit_on_texts(x_train)"
   ]
  },
  {
   "cell_type": "code",
   "execution_count": 128,
   "id": "d99e25cd",
   "metadata": {},
   "outputs": [
    {
     "name": "stdout",
     "output_type": "stream",
     "text": [
      "The size of dataset vocab is:  5981\n"
     ]
    }
   ],
   "source": [
    "#checking the word index and find out the vocabulary of the dataset\n",
    "wordidx = tokenizer.word_index\n",
    "V = len(wordidx)\n",
    "print('The size of dataset vocab is: ', V)"
   ]
  },
  {
   "cell_type": "code",
   "execution_count": 129,
   "id": "92e1dacc",
   "metadata": {},
   "outputs": [
    {
     "name": "stdout",
     "output_type": "stream",
     "text": [
      "Train Sequences:  [1, 2, 109, 43, 1647, 1648, 11, 45, 598, 1649]\n",
      "Test Sequences:  [1, 3474]\n"
     ]
    }
   ],
   "source": [
    "#converting train and test sentences into sequences\n",
    "train_seq = tokenizer.texts_to_sequences(x_train)\n",
    "test_seq = tokenizer.texts_to_sequences(x_test)\n",
    "print('Train Sequences: ', train_seq[0])\n",
    "print('Test Sequences: ', test_seq[0])"
   ]
  },
  {
   "cell_type": "code",
   "execution_count": 130,
   "id": "023cb183",
   "metadata": {},
   "outputs": [
    {
     "name": "stdout",
     "output_type": "stream",
     "text": [
      "The length of training sequence is:  46\n"
     ]
    }
   ],
   "source": [
    "#padding the sequences to get equal length sequence because its convertioanel to use same size sequences\n",
    "#padding the train sequence\n",
    "pad_train = pad_sequences(train_seq)\n",
    "T = pad_train.shape[1]\n",
    "print('The length of training sequence is: ', T)"
   ]
  },
  {
   "cell_type": "code",
   "execution_count": 131,
   "id": "a52ff4e5",
   "metadata": {},
   "outputs": [
    {
     "name": "stdout",
     "output_type": "stream",
     "text": [
      "The length of training sequence is:  46\n"
     ]
    }
   ],
   "source": [
    "#padding the test sequence\n",
    "pad_test = pad_sequences(test_seq, maxlen=T)\n",
    "print('The length of training sequence is: ', pad_test.shape[1])"
   ]
  },
  {
   "cell_type": "code",
   "execution_count": 132,
   "id": "07775c51",
   "metadata": {},
   "outputs": [],
   "source": [
    "#building the model\n",
    "from tensorflow.keras.layers import Input, Dense, Embedding, LSTM, GlobalMaxPooling1D\n",
    "from tensorflow.keras.models import Model\n",
    "\n",
    "D = 20\n",
    "M = 15\n",
    "\n",
    "i = Input(shape=(T,))\n",
    "x = Embedding(V+1, D)(i)\n",
    "x = LSTM(M, return_sequences=True)(x)\n",
    "x = GlobalMaxPooling1D()(x)\n",
    "x = Dense(32,activation='relu')(x)\n",
    "x = Dense(1,activation='sigmoid')(x)\n",
    "\n",
    "model = Model(i,x)"
   ]
  },
  {
   "cell_type": "code",
   "execution_count": 133,
   "id": "6e4dcb4d",
   "metadata": {},
   "outputs": [
    {
     "name": "stdout",
     "output_type": "stream",
     "text": [
      "Model: \"model_3\"\n",
      "_________________________________________________________________\n",
      " Layer (type)                Output Shape              Param #   \n",
      "=================================================================\n",
      " input_4 (InputLayer)        [(None, 46)]              0         \n",
      "                                                                 \n",
      " embedding_3 (Embedding)     (None, 46, 20)            119640    \n",
      "                                                                 \n",
      " lstm_3 (LSTM)               (None, 46, 15)            2160      \n",
      "                                                                 \n",
      " global_max_pooling1d_3 (Glo  (None, 15)               0         \n",
      " balMaxPooling1D)                                                \n",
      "                                                                 \n",
      " dense_6 (Dense)             (None, 32)                512       \n",
      "                                                                 \n",
      " dense_7 (Dense)             (None, 1)                 33        \n",
      "                                                                 \n",
      "=================================================================\n",
      "Total params: 122,345\n",
      "Trainable params: 122,345\n",
      "Non-trainable params: 0\n",
      "_________________________________________________________________\n"
     ]
    }
   ],
   "source": [
    "#compiling the model\n",
    "model.compile(optimizer='adam',\n",
    "             loss='binary_crossentropy',\n",
    "             metrics=['accuracy'])\n",
    "model.summary()"
   ]
  },
  {
   "cell_type": "code",
   "execution_count": 134,
   "id": "6b3e71c7",
   "metadata": {},
   "outputs": [
    {
     "name": "stdout",
     "output_type": "stream",
     "text": [
      "Epoch 1/4\n",
      "30/30 [==============================] - 3s 33ms/step - loss: 0.6855 - accuracy: 0.5745 - val_loss: 0.6801 - val_accuracy: 0.5720\n",
      "Epoch 2/4\n",
      "30/30 [==============================] - 1s 20ms/step - loss: 0.6719 - accuracy: 0.5745 - val_loss: 0.6593 - val_accuracy: 0.5720\n",
      "Epoch 3/4\n",
      "30/30 [==============================] - 1s 20ms/step - loss: 0.6042 - accuracy: 0.5777 - val_loss: 0.5849 - val_accuracy: 0.7415\n",
      "Epoch 4/4\n",
      "30/30 [==============================] - 1s 20ms/step - loss: 0.4576 - accuracy: 0.8500 - val_loss: 0.5278 - val_accuracy: 0.7415\n"
     ]
    }
   ],
   "source": [
    "#training the model\n",
    "r = model.fit(pad_train, y_train, validation_data=(pad_test, y_test), epochs=4)"
   ]
  },
  {
   "cell_type": "code",
   "execution_count": 135,
   "id": "3844646e",
   "metadata": {},
   "outputs": [
    {
     "data": {
      "text/plain": [
       "<matplotlib.legend.Legend at 0x20928e280d0>"
      ]
     },
     "execution_count": 135,
     "metadata": {},
     "output_type": "execute_result"
    },
    {
     "data": {
      "image/png": "[encoded data removed]",
      "text/plain": [
       "<Figure size 432x288 with 1 Axes>"
      ]
     },
     "metadata": {
      "needs_background": "light"
     },
     "output_type": "display_data"
    }
   ],
   "source": [
    "#evaluating the model\n",
    "#plotting the loss and validation loss of the model\n",
    "plt.plot(r.history['loss'], label = 'loss')\n",
    "plt.plot(r.history['val_loss'], label = 'val_loss')\n",
    "plt.legend()"
   ]
  },
  {
   "cell_type": "code",
   "execution_count": 136,
   "id": "b6c94e7f",
   "metadata": {},
   "outputs": [
    {
     "data": {
      "text/plain": [
       "<matplotlib.legend.Legend at 0x2092b1f6a30>"
      ]
     },
     "execution_count": 136,
     "metadata": {},
     "output_type": "execute_result"
    },
    {
     "data": {
      "image/png": "[encoded data removed]",
      "text/plain": [
       "<Figure size 432x288 with 1 Axes>"
      ]
     },
     "metadata": {
      "needs_background": "light"
     },
     "output_type": "display_data"
    }
   ],
   "source": [
    "#plotting the accuracy and validation accuracy of the model\n",
    "plt.plot(r.history['accuracy'], label = 'accuracy')\n",
    "plt.plot(r.history['val_accuracy'], label = 'val_accuracy')\n",
    "plt.legend()"
   ]
  },
  {
   "cell_type": "code",
   "execution_count": 137,
   "id": "66ad6d37",
   "metadata": {},
   "outputs": [
    {
     "name": "stdout",
     "output_type": "stream",
     "text": [
      "1/1 [==============================] - 0s 306ms/step\n",
      "It is a negatif sentiment\n",
      "1/1 [==============================] - 0s 17ms/step\n",
      "It is a pozitif sentiment\n"
     ]
    }
   ],
   "source": [
    "#predicting the sentiment of any text\n",
    "def predict_sentiment(text):\n",
    "    \n",
    "    text_seq = tokenizer.texts_to_sequences(text)\n",
    "    text_pad = pad_sequences(text_seq, maxlen=T)\n",
    "    \n",
    "    predicted_sentiment = model.predict(text_pad).round()\n",
    "    \n",
    "    if predicted_sentiment == 1:\n",
    "        return(print('It is a pozitif sentiment'))\n",
    "    else:\n",
    "        return(print('It is a negatif sentiment'))\n",
    "    \n",
    "text1 = ['Ben bundan sonra trendyoldan hiçbir şey almam']\n",
    "predict_sentiment(text1)\n",
    "text2 = ['Bundan sonra sadece trendyol yemekden sipariş veririm']\n",
    "predict_sentiment(text2)"
   ]
  }
 ],
 "metadata": {
  "kernelspec": {
   "display_name": "Python 3 (ipykernel)",
   "language": "python",
   "name": "python3"
  },
  "language_info": {
   "codemirror_mode": {
    "name": "ipython",
    "version": 3
   },
   "file_extension": ".py",
   "mimetype": "text/x-python",
   "name": "python",
   "nbconvert_exporter": "python",
   "pygments_lexer": "ipython3",
   "version": "3.9.7"
  }
 },
 "nbformat": 4,
 "nbformat_minor": 5
}
