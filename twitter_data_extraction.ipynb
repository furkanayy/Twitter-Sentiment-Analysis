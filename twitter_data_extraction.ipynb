{
 "cells": [
  {
   "cell_type": "code",
   "execution_count": 17,
   "id": "e848df21",
   "metadata": {},
   "outputs": [],
   "source": [
    "from selenium import webdriver\n",
    "from selenium.webdriver.support.ui import WebDriverWait\n",
    "from selenium.webdriver.common.by import By\n",
    "from selenium.webdriver.common.keys import Keys\n",
    "from selenium.common.exceptions import NoSuchElementException\n",
    "from selenium.webdriver.support import expected_conditions as EC\n",
    "from selenium.webdriver.chrome.service import Service\n",
    "from selenium.webdriver.chrome.service import Service as ChromeService\n",
    "from webdriver_manager.chrome import ChromeDriverManager\n",
    "from selenium.webdriver.chrome.options import Options"
   ]
  },
  {
   "cell_type": "code",
   "execution_count": 18,
   "id": "2583a2b4",
   "metadata": {},
   "outputs": [],
   "source": [
    "options = webdriver.ChromeOptions()\n",
    "options.add_experimental_option(\"excludeSwitches\", [\"enable-automation\"])\n",
    "options.add_experimental_option(\"useAutomationExtension\", False)\n",
    "driver = webdriver.Chrome(options=options)"
   ]
  },
  {
   "cell_type": "code",
   "execution_count": 19,
   "id": "ddf998b4",
   "metadata": {},
   "outputs": [],
   "source": [
    "driver.get(\"https://twitter.com/\")"
   ]
  },
  {
   "cell_type": "code",
   "execution_count": 20,
   "id": "65955ef4",
   "metadata": {},
   "outputs": [],
   "source": [
    "driver.implicitly_wait(0.5)\n",
    "driver.maximize_window()"
   ]
  },
  {
   "cell_type": "code",
   "execution_count": 21,
   "id": "7f4b0f12",
   "metadata": {},
   "outputs": [],
   "source": [
    "WebDriverWait(driver, 20).until(EC.element_to_be_clickable((By.CSS_SELECTOR, \"[data-testid='loginButton']\"))).click()"
   ]
  },
  {
   "cell_type": "code",
   "execution_count": 22,
   "id": "1ede83fa",
   "metadata": {},
   "outputs": [],
   "source": [
    "login_id = WebDriverWait(driver, 20).until(EC.element_to_be_clickable((By.CSS_SELECTOR, \"input[autocomplete='username'][name='text']\")))\n",
    "#write your e-mail address in ''\n",
    "login_id.send_keys('' + Keys.ENTER)"
   ]
  },
  {
   "cell_type": "code",
   "execution_count": null,
   "id": "416ab702",
   "metadata": {},
   "outputs": [],
   "source": [
    "#recognition = WebDriverWait(driver, 20).until(EC.element_to_be_clickable((By.CSS_SELECTOR, \"input[data-testid='ocfEnterTextTextInput'][name='text']\")))\n",
    "#if it asks for the username for security put it in ''\n",
    "#recognition.send_keys('' + Keys.ENTER)"
   ]
  },
  {
   "cell_type": "code",
   "execution_count": 23,
   "id": "15134adf",
   "metadata": {},
   "outputs": [],
   "source": [
    "login_psw = WebDriverWait(driver, 20).until(EC.element_to_be_clickable((By.CSS_SELECTOR, \"input[autocomplete='current-password'][name='password']\")))\n",
    "#write your password in ''\n",
    "login_psw.send_keys('' + Keys.ENTER)"
   ]
  },
  {
   "cell_type": "code",
   "execution_count": 24,
   "id": "99f5af70",
   "metadata": {},
   "outputs": [],
   "source": [
    "search = WebDriverWait(driver, 20).until(EC.element_to_be_clickable((By.CSS_SELECTOR, \"input[aria-label='Arama sorgusu']\")))\n",
    "search.send_keys('trendyol' + Keys.ENTER)"
   ]
  },
  {
   "cell_type": "code",
   "execution_count": 25,
   "id": "cf58547a",
   "metadata": {},
   "outputs": [],
   "source": [
    "WebDriverWait(driver, 20).until(EC.element_to_be_clickable((By.LINK_TEXT, \"En Son\"))).click()"
   ]
  },
  {
   "cell_type": "code",
   "execution_count": 26,
   "id": "db1e5d38",
   "metadata": {},
   "outputs": [],
   "source": [
    "driver.implicitly_wait(5)"
   ]
  },
  {
   "cell_type": "code",
   "execution_count": 27,
   "id": "c09ee6bd",
   "metadata": {},
   "outputs": [
    {
     "data": {
      "text/plain": [
       "[<selenium.webdriver.remote.webelement.WebElement (session=\"e513ac92f72d6028326fdcb9e2bf06dc\", element=\"3ea130cd-f261-435b-a92f-bf1df0a86035\")>,\n",
       " <selenium.webdriver.remote.webelement.WebElement (session=\"e513ac92f72d6028326fdcb9e2bf06dc\", element=\"95f6dbbf-8f9d-442d-8bb8-7964e68427b5\")>,\n",
       " <selenium.webdriver.remote.webelement.WebElement (session=\"e513ac92f72d6028326fdcb9e2bf06dc\", element=\"060f0217-4a49-4bae-b594-b3416f474a9f\")>,\n",
       " <selenium.webdriver.remote.webelement.WebElement (session=\"e513ac92f72d6028326fdcb9e2bf06dc\", element=\"9926831c-614d-4405-8907-2eeef501e00e\")>,\n",
       " <selenium.webdriver.remote.webelement.WebElement (session=\"e513ac92f72d6028326fdcb9e2bf06dc\", element=\"b6a051c7-7a99-4fd9-acb4-b07bf3fc61fe\")>,\n",
       " <selenium.webdriver.remote.webelement.WebElement (session=\"e513ac92f72d6028326fdcb9e2bf06dc\", element=\"67cb57ee-f7dd-4abb-aa2f-17decb59164b\")>,\n",
       " <selenium.webdriver.remote.webelement.WebElement (session=\"e513ac92f72d6028326fdcb9e2bf06dc\", element=\"0ab0fb89-f1e9-4830-9534-2af8900c7c9f\")>,\n",
       " <selenium.webdriver.remote.webelement.WebElement (session=\"e513ac92f72d6028326fdcb9e2bf06dc\", element=\"01ca662b-6ef8-4743-879a-1884a0b3abd5\")>,\n",
       " <selenium.webdriver.remote.webelement.WebElement (session=\"e513ac92f72d6028326fdcb9e2bf06dc\", element=\"3e75f898-f432-495a-ba2d-a7f687bd5180\")>,\n",
       " <selenium.webdriver.remote.webelement.WebElement (session=\"e513ac92f72d6028326fdcb9e2bf06dc\", element=\"ffcc0e04-000a-45e6-9068-a6714e34a8e0\")>,\n",
       " <selenium.webdriver.remote.webelement.WebElement (session=\"e513ac92f72d6028326fdcb9e2bf06dc\", element=\"89d67f33-c545-4af7-b3da-0eb8303318f0\")>,\n",
       " <selenium.webdriver.remote.webelement.WebElement (session=\"e513ac92f72d6028326fdcb9e2bf06dc\", element=\"b78da222-7c80-41a0-9863-f7a55868a9f2\")>,\n",
       " <selenium.webdriver.remote.webelement.WebElement (session=\"e513ac92f72d6028326fdcb9e2bf06dc\", element=\"84309830-db5c-4590-8484-b084c3dc44c5\")>,\n",
       " <selenium.webdriver.remote.webelement.WebElement (session=\"e513ac92f72d6028326fdcb9e2bf06dc\", element=\"91e44df5-8113-4ddd-ae27-7d3ce69ed43d\")>,\n",
       " <selenium.webdriver.remote.webelement.WebElement (session=\"e513ac92f72d6028326fdcb9e2bf06dc\", element=\"af2c1b31-b1ce-44f1-8078-35801bcad918\")>,\n",
       " <selenium.webdriver.remote.webelement.WebElement (session=\"e513ac92f72d6028326fdcb9e2bf06dc\", element=\"5ac1bb1f-904d-44c1-94cf-14167e13e23a\")>,\n",
       " <selenium.webdriver.remote.webelement.WebElement (session=\"e513ac92f72d6028326fdcb9e2bf06dc\", element=\"bee797b1-34d9-47e1-b036-63498c89e8c0\")>,\n",
       " <selenium.webdriver.remote.webelement.WebElement (session=\"e513ac92f72d6028326fdcb9e2bf06dc\", element=\"24d3096e-4c20-4be9-bdfc-fc2cc5da1519\")>,\n",
       " <selenium.webdriver.remote.webelement.WebElement (session=\"e513ac92f72d6028326fdcb9e2bf06dc\", element=\"c21161c6-08c7-44f1-aab2-8e2c0744c3b6\")>,\n",
       " <selenium.webdriver.remote.webelement.WebElement (session=\"e513ac92f72d6028326fdcb9e2bf06dc\", element=\"3062a676-3399-4e68-a5d0-3d97af8874fc\")>]"
      ]
     },
     "execution_count": 27,
     "metadata": {},
     "output_type": "execute_result"
    }
   ],
   "source": [
    "tweets = driver.find_elements(By.CSS_SELECTOR, \"[data-testid=\\\"tweet\\\"]\")\n",
    "tweets"
   ]
  },
  {
   "cell_type": "code",
   "execution_count": 28,
   "id": "987b0c59",
   "metadata": {},
   "outputs": [],
   "source": [
    "tweet = tweets[0]"
   ]
  },
  {
   "cell_type": "code",
   "execution_count": 29,
   "id": "2c55481f",
   "metadata": {},
   "outputs": [
    {
     "name": "stdout",
     "output_type": "stream",
     "text": [
      "kız kardeşi doktor\n"
     ]
    }
   ],
   "source": [
    "tweet_username = tweet.find_elements(By.CSS_SELECTOR, \"div[class='css-901oao r-1awozwy r-18jsvk2 r-6koalj r-1qd0xha r-a023e6 r-b88u0q r-rjixqe r-bcqeeo r-1udh08x r-3s2u2q r-qvutc0']\")\n",
    "for value in tweet_username:\n",
    "    print(value.text)"
   ]
  },
  {
   "cell_type": "code",
   "execution_count": 30,
   "id": "d8300773",
   "metadata": {},
   "outputs": [
    {
     "name": "stdout",
     "output_type": "stream",
     "text": [
      "@kantaronsabunu\n"
     ]
    }
   ],
   "source": [
    "tweet_owner = tweet.find_elements(By.CSS_SELECTOR, \"div[class='css-901oao css-bfa6kz r-14j79pv r-18u37iz r-1qd0xha r-a023e6 r-16dba41 r-rjixqe r-bcqeeo r-qvutc0']\")\n",
    "for value in tweet_owner:\n",
    "    print(value.text)"
   ]
  },
  {
   "cell_type": "code",
   "execution_count": 31,
   "id": "36c3db08",
   "metadata": {},
   "outputs": [
    {
     "name": "stdout",
     "output_type": "stream",
     "text": [
      "2022-06-24T18:10:43.000Z\n"
     ]
    }
   ],
   "source": [
    "tweet_time = tweet.find_elements(By.CSS_SELECTOR, \"a[class='css-4rbku5 css-18t94o4 css-901oao r-14j79pv r-1loqt21 r-1q142lx r-1qd0xha r-a023e6 r-16dba41 r-rjixqe r-bcqeeo r-3s2u2q r-qvutc0'] > time\")\n",
    "for value in tweet_time:\n",
    "    print(value.get_attribute('datetime'))"
   ]
  },
  {
   "cell_type": "code",
   "execution_count": 121,
   "id": "4ec0f281",
   "metadata": {},
   "outputs": [
    {
     "name": "stdout",
     "output_type": "stream",
     "text": [
      "Bugün turuncu günü mü niye herkes Trendyol kuryesi gibi dolanıyor etrafta\n",
      "\n"
     ]
    }
   ],
   "source": [
    "tweet_content = tweet.find_elements(By.XPATH, \".//div/div/div/div[2]/div[2]/div[2]/div[1]\")\n",
    "for value in tweet_content:\n",
    "    print(value.text)"
   ]
  },
  {
   "cell_type": "code",
   "execution_count": 34,
   "id": "bcc1e969",
   "metadata": {},
   "outputs": [],
   "source": [
    "tweet_response = tweet.find_elements(By.CSS_SELECTOR, \"div[class='css-901oao r-14j79pv r-1qd0xha r-a023e6 r-16dba41 r-rjixqe r-bcqeeo r-qvutc0']\")\n",
    "for value in tweet_response:\n",
    "    print(value.text)"
   ]
  },
  {
   "cell_type": "code",
   "execution_count": 33,
   "id": "a538d584",
   "metadata": {},
   "outputs": [
    {
     "name": "stdout",
     "output_type": "stream",
     "text": [
      "bu sefer trendyol alışverişimi yaptıktan sonra uygulamayı kaldırdım öyle bir nefret etmişlik öyle bir boşvermişlik, gelen gelir gelmeyen de umrumda değil\n"
     ]
    }
   ],
   "source": [
    "tweet_content = tweet.find_elements(By.CSS_SELECTOR, \"div[class = 'css-901oao r-18jsvk2 r-1qd0xha r-a023e6 r-16dba41 r-rjixqe r-bcqeeo r-bnwqim r-qvutc0']\")\n",
    "for value in tweet_content:\n",
    "    print(value.text)"
   ]
  },
  {
   "cell_type": "code",
   "execution_count": 35,
   "id": "fa76ef32",
   "metadata": {},
   "outputs": [
    {
     "name": "stdout",
     "output_type": "stream",
     "text": [
      "0\n"
     ]
    }
   ],
   "source": [
    "tweet_reply = tweet.find_elements(By.XPATH, \".//div[@data-testid='reply']\")\n",
    "for value in tweet_reply:\n",
    "    if value.text:print(\"value.text\")\n",
    "    else:print(\"0\")"
   ]
  },
  {
   "cell_type": "code",
   "execution_count": 36,
   "id": "e6ba6050",
   "metadata": {},
   "outputs": [
    {
     "name": "stdout",
     "output_type": "stream",
     "text": [
      "0\n"
     ]
    }
   ],
   "source": [
    "tweet_retweet = tweet.find_elements(By.XPATH, \".//div[@data-testid='retweet']\")\n",
    "for value in tweet_retweet:\n",
    "    if value.text:print(value.text)\n",
    "    else:print(\"0\")"
   ]
  },
  {
   "cell_type": "code",
   "execution_count": 37,
   "id": "da8b29f0",
   "metadata": {},
   "outputs": [
    {
     "name": "stdout",
     "output_type": "stream",
     "text": [
      "0\n"
     ]
    }
   ],
   "source": [
    "tweet_like = tweet.find_elements(By.XPATH, \".//div[@data-testid='like']\")\n",
    "for value in tweet_like:\n",
    "    if value.text:print(value.text)\n",
    "    else:print(\"0\")"
   ]
  },
  {
   "cell_type": "code",
   "execution_count": 38,
   "id": "ad80b137",
   "metadata": {},
   "outputs": [],
   "source": [
    "def get_tweet_data(tweet):\n",
    "    \"\"\"\"Exract data from tweet\"\"\"\n",
    "    username = \"\"\n",
    "    owner = \"\"\n",
    "    time = \"\"\n",
    "    response = \"\"\n",
    "    comment = \"\"\n",
    "    reply = \"\"\n",
    "    retweet = \"\"\n",
    "    like = \"\"\n",
    "    for tweet_username in tweet.find_elements(By.CSS_SELECTOR, \"div[class='css-901oao r-1awozwy r-18jsvk2 r-6koalj r-1qd0xha r-a023e6 r-b88u0q r-rjixqe r-bcqeeo r-1udh08x r-3s2u2q r-qvutc0']\"):\n",
    "        username = tweet_username.text\n",
    "    for tweet_owner in tweet.find_elements(By.CSS_SELECTOR, \"div[class='css-901oao css-bfa6kz r-14j79pv r-18u37iz r-1qd0xha r-a023e6 r-16dba41 r-rjixqe r-bcqeeo r-qvutc0']\"):\n",
    "        owner = tweet_owner.text\n",
    "    for tweet_time in tweet.find_elements(By.CSS_SELECTOR, \"a[class='css-4rbku5 css-18t94o4 css-901oao r-14j79pv r-1loqt21 r-1q142lx r-1qd0xha r-a023e6 r-16dba41 r-rjixqe r-bcqeeo r-3s2u2q r-qvutc0'] > time\"):\n",
    "        time = tweet_time.get_attribute('datetime')\n",
    "    for tweet_response in tweet.find_elements(By.CSS_SELECTOR, \"div[class='css-901oao r-14j79pv r-1qd0xha r-a023e6 r-16dba41 r-rjixqe r-bcqeeo r-qvutc0']\"):\n",
    "        response = tweet_response.text\n",
    "    for tweet_comment in tweet.find_elements(By.CSS_SELECTOR, \"div[class = 'css-901oao r-18jsvk2 r-1qd0xha r-a023e6 r-16dba41 r-rjixqe r-bcqeeo r-bnwqim r-qvutc0']\"):\n",
    "        comment = tweet_comment.text\n",
    "    for tweet_reply in tweet.find_elements(By.CSS_SELECTOR, \"[data-testid='reply']\"):\n",
    "        reply = tweet_reply.text\n",
    "    for tweet_retweet in tweet.find_elements(By.CSS_SELECTOR, \"[data-testid='retweet']\"):\n",
    "        retweet = tweet_retweet.text\n",
    "    for tweet_like in tweet.find_elements(By.CSS_SELECTOR, \"[data-testid='like']\"):\n",
    "        like = tweet_like.text\n",
    "        \n",
    "    tweets = (username,owner,time,response,comment,reply,retweet,like)\n",
    "    return tweets"
   ]
  },
  {
   "cell_type": "code",
   "execution_count": 39,
   "id": "38af6570",
   "metadata": {},
   "outputs": [
    {
     "data": {
      "text/plain": [
       "('kız kardeşi doktor',\n",
       " '@kantaronsabunu',\n",
       " '2022-06-24T18:10:43.000Z',\n",
       " '',\n",
       " 'bu sefer trendyol alışverişimi yaptıktan sonra uygulamayı kaldırdım öyle bir nefret etmişlik öyle bir boşvermişlik, gelen gelir gelmeyen de umrumda değil',\n",
       " '',\n",
       " '',\n",
       " '')"
      ]
     },
     "execution_count": 39,
     "metadata": {},
     "output_type": "execute_result"
    }
   ],
   "source": [
    "get_tweet_data(tweet)"
   ]
  },
  {
   "cell_type": "code",
   "execution_count": 40,
   "id": "950d142f",
   "metadata": {},
   "outputs": [],
   "source": [
    "tweet_data = []\n",
    "for tweet in tweets:\n",
    "    data = get_tweet_data(tweet)\n",
    "    if data:\n",
    "        tweet_data.append(data)"
   ]
  },
  {
   "cell_type": "code",
   "execution_count": 41,
   "id": "47583347",
   "metadata": {},
   "outputs": [
    {
     "data": {
      "text/plain": [
       "('eylül',\n",
       " '@eylwtf',\n",
       " '2022-06-24T17:42:23.000Z',\n",
       " '',\n",
       " '2klik trendyol sepeti olusturdum iremle finansal kole avina cikmak zorundayiz',\n",
       " '1',\n",
       " '',\n",
       " '3')"
      ]
     },
     "execution_count": 41,
     "metadata": {},
     "output_type": "execute_result"
    }
   ],
   "source": [
    "tweet_data[10]"
   ]
  },
  {
   "cell_type": "code",
   "execution_count": null,
   "id": "7cee293e",
   "metadata": {},
   "outputs": [],
   "source": [
    "driver.execute_script('window.scroll(0, document.body.scrollHeight);')"
   ]
  },
  {
   "cell_type": "markdown",
   "id": "caa5a14b",
   "metadata": {},
   "source": [
    "# Putting it all together"
   ]
  },
  {
   "cell_type": "code",
   "execution_count": null,
   "id": "be7c8a97",
   "metadata": {},
   "outputs": [],
   "source": [
    "import csv\n",
    "from selenium import webdriver\n",
    "from time import sleep\n",
    "from selenium.webdriver.support.ui import WebDriverWait\n",
    "from selenium.webdriver.common.by import By\n",
    "from selenium.webdriver.common.keys import Keys\n",
    "from selenium.webdriver.support import expected_conditions as EC\n",
    "from webdriver_manager.chrome import ChromeDriverManager\n",
    "from selenium.webdriver.chrome.options import Options\n",
    "\n",
    "def get_tweet_data(tweet):\n",
    "    \"\"\"\"Exract data from tweet\"\"\"\n",
    "    username = \"\"\n",
    "    owner = \"\"\n",
    "    time = \"\"\n",
    "    response = \"\"\n",
    "    comment = \"\"\n",
    "    reply = \"\"\n",
    "    retweet = \"\"\n",
    "    like = \"\"\n",
    "    for tweet_username in tweet.find_elements(By.CSS_SELECTOR, \"div[class='css-901oao r-1awozwy r-18jsvk2 r-6koalj r-1qd0xha r-a023e6 r-b88u0q r-rjixqe r-bcqeeo r-1udh08x r-3s2u2q r-qvutc0']\"):\n",
    "        username = tweet_username.text\n",
    "    for tweet_owner in tweet.find_elements(By.CSS_SELECTOR, \"div[class='css-901oao css-bfa6kz r-14j79pv r-18u37iz r-1qd0xha r-a023e6 r-16dba41 r-rjixqe r-bcqeeo r-qvutc0']\"):\n",
    "        owner = tweet_owner.text\n",
    "    for tweet_time in tweet.find_elements(By.CSS_SELECTOR, \"a[class='css-4rbku5 css-18t94o4 css-901oao r-14j79pv r-1loqt21 r-1q142lx r-1qd0xha r-a023e6 r-16dba41 r-rjixqe r-bcqeeo r-3s2u2q r-qvutc0'] > time\"):\n",
    "        time = tweet_time.get_attribute('datetime')\n",
    "    for tweet_response in tweet.find_elements(By.CSS_SELECTOR, \"div[class='css-1dbjc4n r-4qtqp9 r-zl2h9q']\"):\n",
    "        response = tweet_response.text\n",
    "    for tweet_comment in tweet.find_elements(By.CSS_SELECTOR, \"div[class = 'css-901oao r-18jsvk2 r-1qd0xha r-a023e6 r-16dba41 r-rjixqe r-bcqeeo r-bnwqim r-qvutc0']\"):\n",
    "        comment = tweet_comment.text\n",
    "    for tweet_reply in tweet.find_elements(By.CSS_SELECTOR, \"[data-testid='reply']\"):\n",
    "        reply = tweet_reply.text\n",
    "    for tweet_retweet in tweet.find_elements(By.CSS_SELECTOR, \"[data-testid='retweet']\"):\n",
    "        retweet = tweet_retweet.text\n",
    "    for tweet_like in tweet.find_elements(By.CSS_SELECTOR, \"[data-testid='like']\"):\n",
    "        like = tweet_like.text\n",
    "        \n",
    "    tweets = (username,owner,time,response,comment,reply,retweet,like)\n",
    "    return tweets\n",
    "\n",
    "#create instance of web driver\n",
    "options = webdriver.ChromeOptions()\n",
    "options.add_experimental_option(\"excludeSwitches\", [\"enable-automation\"])\n",
    "options.add_experimental_option(\"useAutomationExtension\", False)\n",
    "driver = webdriver.Chrome(options=options)\n",
    "\n",
    "#navigate to twitter screen\n",
    "driver.get(\"https://twitter.com/\")\n",
    "driver.maximize_window()\n",
    "driver.implicitly_wait(1)\n",
    "\n",
    "#find search input for login processes and making check-in\n",
    "WebDriverWait(driver, 20).until(EC.element_to_be_clickable((By.CSS_SELECTOR, \"[data-testid='loginButton']\"))).click()\n",
    "\n",
    "login_id = WebDriverWait(driver, 20).until(EC.element_to_be_clickable((By.CSS_SELECTOR, \"input[autocomplete='username'][name='text']\")))\n",
    "#write your e-mail address in ''\n",
    "login_id.send_keys('' + Keys.ENTER)\n",
    "\n",
    "#recognition = WebDriverWait(driver, 20).until(EC.element_to_be_clickable((By.CSS_SELECTOR, \"input[data-testid='ocfEnterTextTextInput'][name='text']\")))\n",
    "#if it asks for the username for security put it in ''\n",
    "#recognition.send_keys('' + Keys.ENTER)\n",
    "\n",
    "login_psw = WebDriverWait(driver, 20).until(EC.element_to_be_clickable((By.CSS_SELECTOR, \"input[autocomplete='current-password'][name='password']\")))\n",
    "#write your password in ''\n",
    "login_psw.send_keys('' + Keys.ENTER)\n",
    "driver.implicitly_wait(1)\n",
    "\n",
    "#find search input and search for term\n",
    "search = WebDriverWait(driver, 20).until(EC.element_to_be_clickable((By.CSS_SELECTOR, \"input[aria-label='Arama sorgusu']\")))\n",
    "search.send_keys('trendyol' + Keys.ENTER)\n",
    "\n",
    "#navigate to historical ' En Son' tab\n",
    "WebDriverWait(driver, 20).until(EC.element_to_be_clickable((By.LINK_TEXT, \"En Son\"))).click()\n",
    "driver.implicitly_wait(2)\n",
    "\n",
    "#get all tweets on the page\n",
    "tweet_data = []\n",
    "tweet_ids = set()\n",
    "last_position = driver.execute_script(\"return window.pageYOffset;\")\n",
    "scrolling = True\n",
    "\n",
    "while scrolling:\n",
    "    page_tweets = driver.find_elements(By.CSS_SELECTOR, \"[data-testid=\\\"tweet\\\"]\")\n",
    "    for tweet in page_tweets:\n",
    "        data = get_tweet_data(tweet)\n",
    "        if data:\n",
    "            tweet_id = ''.join(data)\n",
    "            if tweet_id not in tweet_ids:\n",
    "                tweet_ids.add(tweet_id)\n",
    "                tweet_data.append(data)\n",
    "                \n",
    "    scroll_attemp = 0\n",
    "    while True:\n",
    "        #check scroll position\n",
    "        driver.execute_script('window.scroll(0, document.body.scrollHeight);')\n",
    "        sleep(1)\n",
    "        curr_position = driver.execute_script(\"return window.pageYOffset;\")\n",
    "        if last_position == curr_position:\n",
    "            scroll_attemp += 1\n",
    "            \n",
    "            #end of scroll region\n",
    "            if scroll_attemp >= 3:\n",
    "                scrolling = False\n",
    "                break\n",
    "            else:\n",
    "                sleep(1) #attempt to scroll again\n",
    "        else:\n",
    "            last_position = curr_position\n",
    "            break"
   ]
  },
  {
   "cell_type": "code",
   "execution_count": 2,
   "id": "3cbcb2ea",
   "metadata": {},
   "outputs": [
    {
     "data": {
      "text/plain": [
       "5495"
      ]
     },
     "execution_count": 2,
     "metadata": {},
     "output_type": "execute_result"
    }
   ],
   "source": [
    "len(tweet_data)"
   ]
  },
  {
   "cell_type": "markdown",
   "id": "3834cdb5",
   "metadata": {},
   "source": [
    "# Saving the tweet data"
   ]
  },
  {
   "cell_type": "code",
   "execution_count": 3,
   "id": "786e1247",
   "metadata": {},
   "outputs": [],
   "source": [
    "with open('trendyol_tweets.csv', 'w', newline='', encoding='utf-8') as f:\n",
    "    header = ['Username','User','Timestamp','Response','Comments','Replys','Retweets','Likes']\n",
    "    writer = csv.writer(f)\n",
    "    writer.writerow(header)\n",
    "    writer.writerows(tweet_data)"
   ]
  }
 ],
 "metadata": {
  "kernelspec": {
   "display_name": "Python 3 (ipykernel)",
   "language": "python",
   "name": "python3"
  },
  "language_info": {
   "codemirror_mode": {
    "name": "ipython",
    "version": 3
   },
   "file_extension": ".py",
   "mimetype": "text/x-python",
   "name": "python",
   "nbconvert_exporter": "python",
   "pygments_lexer": "ipython3",
   "version": "3.9.7"
  }
 },
 "nbformat": 4,
 "nbformat_minor": 5
}
